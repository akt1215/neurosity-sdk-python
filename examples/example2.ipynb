{
 "cells": [
  {
   "cell_type": "code",
   "execution_count": 1,
   "metadata": {},
   "outputs": [
    {
     "name": "stdout",
     "output_type": "stream",
     "text": [
      "OrderedDict([('channelNames', ['CP3', 'C3', 'F5', 'PO3', 'PO4', 'F6', 'C4', 'CP4']), ('channels', 8), ('deviceId', '9de6150f7bb3f2c1a855891cd013681f'), ('deviceNickname', 'Crown-9DE'), ('macAddress', 'C0:EE:40:AB:EA:A5'), ('manufacturer', 'Neurosity, Inc'), ('model', 'Crown 3'), ('modelName', 'Crown'), ('modelVersion', '3'), ('osVersion', '16.4.0'), ('samplingRate', 256)])\n"
     ]
    }
   ],
   "source": [
    "from neurosity import NeurositySDK\n",
    "from dotenv import load_dotenv\n",
    "import os\n",
    "import time\n",
    "\n",
    "load_dotenv()\n",
    "\n",
    "neurosity = NeurositySDK({\n",
    "    \"device_id\": os.getenv(\"NEUROSITY_DEVICE_ID\")\n",
    "})\n",
    "\n",
    "neurosity.login({\n",
    "    \"email\": os.getenv(\"NEUROSITY_EMAIL\"),\n",
    "    \"password\": os.getenv(\"NEUROSITY_PASSWORD\")\n",
    "})\n",
    "\n",
    "info = neurosity.get_info()\n",
    "print(info)\n",
    "\n",
    "def callback(data):\n",
    "    print(data)"
   ]
  },
  {
   "cell_type": "code",
   "execution_count": 2,
   "metadata": {},
   "outputs": [
    {
     "name": "stdout",
     "output_type": "stream",
     "text": [
      "Done with example.py\n"
     ]
    }
   ],
   "source": [
    "unsubscribe = neurosity.brainwaves_raw(callback)\n",
    "time.sleep(10)\n",
    "unsubscribe()\n",
    "print(\"Done with example.py\")"
   ]
  }
 ],
 "metadata": {
  "kernelspec": {
   "display_name": "Python 3",
   "language": "python",
   "name": "python3"
  },
  "language_info": {
   "codemirror_mode": {
    "name": "ipython",
    "version": 3
   },
   "file_extension": ".py",
   "mimetype": "text/x-python",
   "name": "python",
   "nbconvert_exporter": "python",
   "pygments_lexer": "ipython3",
   "version": "3.11.8"
  }
 },
 "nbformat": 4,
 "nbformat_minor": 2
}
